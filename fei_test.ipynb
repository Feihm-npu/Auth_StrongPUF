{
 "cells": [
  {
   "cell_type": "code",
   "execution_count": 1,
   "metadata": {},
   "outputs": [],
   "source": [
    "import sys\n",
    "import os\n",
    "\n",
    "parent_dir = os.path.abspath('/home/feihm/ZLspace/VGG16-pytorch-implementation/')\n",
    "sys.path.append(parent_dir)\n",
    "\n",
    "import torch\n",
    "from torch.utils.data import Dataset, DataLoader\n",
    "import torch.nn as nn\n",
    "import torch.optim as optim\n",
    "import os\n",
    "import cv2\n",
    "import numpy as np\n",
    "from torchvision.transforms import Compose, Resize, ToTensor, Normalize, ToPILImage\n",
    "from sklearn.metrics import classification_report, accuracy_score\n",
    "from tqdm import tqdm\n",
    "from argparse import ArgumentParser\n",
    "# from dataset import PUFDataset\n",
    "from dataset_fei import PUFDataset\n",
    "# from vgg16_model import VGG16_net\n",
    "from vgg16_fei import VVG16_net\n",
    "from transforms import *\n",
    "from puf_simulator import PUFs\n",
    "import random\n",
    "import matplotlib.pyplot as plt\n",
    "import time"
   ]
  },
  {
   "cell_type": "markdown",
   "metadata": {},
   "source": [
    "### Train"
   ]
  },
  {
   "cell_type": "code",
   "execution_count": 2,
   "metadata": {},
   "outputs": [],
   "source": [
    "train_transform = Compose([\n",
    "                # ToPILImage(),\n",
    "                ToTensor(),\n",
    "            ])\n",
    "test_transform = Compose([\n",
    "                # ToPILImage(),\n",
    "                ToTensor(),\n",
    "            ])\n",
    "# train_transform = None\n",
    "# test_transform = None\n"
   ]
  },
  {
   "cell_type": "code",
   "execution_count": 3,
   "metadata": {},
   "outputs": [],
   "source": [
    "epochs = 30\n",
    "batch_size = 32\n",
    "num_workers = 4\n",
    "root = '/home/feihm/ZLspace/VGG16-pytorch-implementation/fei-test/data_shift2'\n",
    "# root = '/home/feihm/ZLspace/VGG16-pytorch-implementation/fei-test/data_shift2_100_126_323'\n",
    "# root = '/home/feihm/ZLspace/VGG16-pytorch-implementation/data/pattern_v2/size_100_onepuf/5_pufdata_50*50_0.1_noise_v2'\n",
    "train_dataset = PUFDataset(root=root, train=True, transform=train_transform)\n",
    "train_dataloader = DataLoader(dataset=train_dataset, batch_size=batch_size, shuffle=True, num_workers=num_workers, drop_last=True)\n",
    "test_dataset = PUFDataset(root=root, train=False, transform=test_transform)\n",
    "test_dataloader = DataLoader(dataset=test_dataset, batch_size=batch_size, shuffle=False, num_workers=num_workers, drop_last=False)\n",
    "    "
   ]
  },
  {
   "cell_type": "code",
   "execution_count": 4,
   "metadata": {},
   "outputs": [
    {
     "name": "stdout",
     "output_type": "stream",
     "text": [
      "tensor([[[0., 1., 0.,  ..., 1., 0., 1.],\n",
      "         [0., 0., 1.,  ..., 1., 1., 1.],\n",
      "         [0., 1., 1.,  ..., 0., 1., 1.],\n",
      "         ...,\n",
      "         [0., 1., 0.,  ..., 1., 1., 0.],\n",
      "         [1., 1., 0.,  ..., 0., 0., 0.],\n",
      "         [0., 0., 0.,  ..., 1., 1., 1.]]])\n"
     ]
    }
   ],
   "source": [
    "for i in test_dataset:\n",
    "    print(i[0])\n",
    "    break"
   ]
  },
  {
   "cell_type": "code",
   "execution_count": null,
   "metadata": {},
   "outputs": [
    {
     "name": "stdout",
     "output_type": "stream",
     "text": [
      "conv_output_size: 18432\n"
     ]
    },
    {
     "name": "stderr",
     "output_type": "stream",
     "text": [
      "Epoch: 1/30 Iter: 9 Loss: 1.6799: 100%|██████████| 9/9 [00:01<00:00,  8.34it/s]"
     ]
    },
    {
     "name": "stdout",
     "output_type": "stream",
     "text": [
      "Epoch: 1/30 Training Loss: 1.6500 Training Acc: 0.1667 Avg Train Confidence: 0.2570\n"
     ]
    },
    {
     "name": "stderr",
     "output_type": "stream",
     "text": [
      "\n"
     ]
    },
    {
     "name": "stdout",
     "output_type": "stream",
     "text": [
      "Epoch: 1/30 Test Loss: 1.6105 Test Acc: 0.2000 Avg Test Confidence: 0.2039\n"
     ]
    },
    {
     "name": "stderr",
     "output_type": "stream",
     "text": [
      "Epoch: 2/30 Iter: 9 Loss: 1.5939: 100%|██████████| 9/9 [00:00<00:00, 14.43it/s]"
     ]
    },
    {
     "name": "stdout",
     "output_type": "stream",
     "text": [
      "Epoch: 2/30 Training Loss: 1.6318 Training Acc: 0.2188 Avg Train Confidence: 0.2746\n"
     ]
    },
    {
     "name": "stderr",
     "output_type": "stream",
     "text": [
      "\n"
     ]
    },
    {
     "name": "stdout",
     "output_type": "stream",
     "text": [
      "Epoch: 2/30 Test Loss: 1.6081 Test Acc: 0.2400 Avg Test Confidence: 0.2024\n"
     ]
    },
    {
     "name": "stderr",
     "output_type": "stream",
     "text": [
      "Epoch: 3/30 Iter: 9 Loss: 1.6683: 100%|██████████| 9/9 [00:00<00:00, 12.14it/s]"
     ]
    },
    {
     "name": "stdout",
     "output_type": "stream",
     "text": [
      "Epoch: 3/30 Training Loss: 1.5833 Training Acc: 0.2500 Avg Train Confidence: 0.2893\n"
     ]
    },
    {
     "name": "stderr",
     "output_type": "stream",
     "text": [
      "\n"
     ]
    },
    {
     "name": "stdout",
     "output_type": "stream",
     "text": [
      "Epoch: 3/30 Test Loss: 1.6158 Test Acc: 0.2650 Avg Test Confidence: 0.2210\n"
     ]
    },
    {
     "name": "stderr",
     "output_type": "stream",
     "text": [
      "Epoch: 4/30 Iter: 9 Loss: 1.4929: 100%|██████████| 9/9 [00:00<00:00, 14.43it/s]"
     ]
    },
    {
     "name": "stdout",
     "output_type": "stream",
     "text": [
      "Epoch: 4/30 Training Loss: 1.5568 Training Acc: 0.3194 Avg Train Confidence: 0.3132\n"
     ]
    },
    {
     "name": "stderr",
     "output_type": "stream",
     "text": [
      "\n"
     ]
    },
    {
     "name": "stdout",
     "output_type": "stream",
     "text": [
      "Epoch: 4/30 Test Loss: 1.5839 Test Acc: 0.3050 Avg Test Confidence: 0.2186\n"
     ]
    },
    {
     "name": "stderr",
     "output_type": "stream",
     "text": [
      "Epoch: 5/30 Iter: 9 Loss: 1.2679: 100%|██████████| 9/9 [00:00<00:00, 14.67it/s]"
     ]
    },
    {
     "name": "stdout",
     "output_type": "stream",
     "text": [
      "Epoch: 5/30 Training Loss: 1.3880 Training Acc: 0.4028 Avg Train Confidence: 0.3322\n"
     ]
    },
    {
     "name": "stderr",
     "output_type": "stream",
     "text": [
      "\n"
     ]
    },
    {
     "name": "stdout",
     "output_type": "stream",
     "text": [
      "Epoch: 5/30 Test Loss: 1.3529 Test Acc: 0.6000 Avg Test Confidence: 0.3396\n"
     ]
    },
    {
     "name": "stderr",
     "output_type": "stream",
     "text": [
      "Epoch: 6/30 Iter: 9 Loss: 1.0198: 100%|██████████| 9/9 [00:00<00:00, 14.04it/s]\n"
     ]
    },
    {
     "name": "stdout",
     "output_type": "stream",
     "text": [
      "Epoch: 6/30 Training Loss: 1.1776 Training Acc: 0.5278 Avg Train Confidence: 0.4577\n",
      "Epoch: 6/30 Test Loss: 1.2859 Test Acc: 0.4200 Avg Test Confidence: 0.5816\n"
     ]
    },
    {
     "name": "stderr",
     "output_type": "stream",
     "text": [
      "Epoch: 7/30 Iter: 9 Loss: 0.8457: 100%|██████████| 9/9 [00:00<00:00, 14.43it/s]"
     ]
    },
    {
     "name": "stdout",
     "output_type": "stream",
     "text": [
      "Epoch: 7/30 Training Loss: 0.8968 Training Acc: 0.5903 Avg Train Confidence: 0.5572\n"
     ]
    },
    {
     "name": "stderr",
     "output_type": "stream",
     "text": [
      "\n"
     ]
    },
    {
     "name": "stdout",
     "output_type": "stream",
     "text": [
      "Epoch: 7/30 Test Loss: 2.5898 Test Acc: 0.4000 Avg Test Confidence: 0.9055\n"
     ]
    },
    {
     "name": "stderr",
     "output_type": "stream",
     "text": [
      "Epoch: 8/30 Iter: 9 Loss: 0.5765: 100%|██████████| 9/9 [00:00<00:00, 15.52it/s]"
     ]
    },
    {
     "name": "stdout",
     "output_type": "stream",
     "text": [
      "Epoch: 8/30 Training Loss: 0.7514 Training Acc: 0.6632 Avg Train Confidence: 0.6080\n"
     ]
    },
    {
     "name": "stderr",
     "output_type": "stream",
     "text": [
      "\n"
     ]
    },
    {
     "name": "stdout",
     "output_type": "stream",
     "text": [
      "Epoch: 8/30 Test Loss: 0.6773 Test Acc: 0.7550 Avg Test Confidence: 0.6366\n"
     ]
    },
    {
     "name": "stderr",
     "output_type": "stream",
     "text": [
      "Epoch: 9/30 Iter: 6 Loss: 0.6112:  67%|██████▋   | 6/9 [00:00<00:00, 16.65it/s]"
     ]
    }
   ],
   "source": [
    "import torch\n",
    "import torch.nn as nn\n",
    "import torch.optim as optim\n",
    "from tqdm import tqdm\n",
    "from sklearn.metrics import accuracy_score\n",
    "import torch.nn.functional as F\n",
    "import matplotlib.pyplot as plt\n",
    "\n",
    "# 假设 train_accs 和 test_accs 分别保存了每个 epoch 的训练精度和测试精度\n",
    "train_accs = []  # 用于存储每个 epoch 的训练精度\n",
    "test_accs = []   # 用于存储每个 epoch 的测试精度\n",
    "train_confidences = []  # 用于存储每个 epoch 的训练平均置信度\n",
    "test_confidences = []   # 用于存储每个 epoch 的测试平均置信度\n",
    "\n",
    "# 使用 GPU 如果可用\n",
    "device = torch.device('cuda') if torch.cuda.is_available() else torch.device('cpu')\n",
    "\n",
    "# 初始化模型\n",
    "model = VVG16_net(in_channels=1, n_classes=5, img_size=(128,128)).to(device)\n",
    "\n",
    "# 定义损失函数和优化器\n",
    "criterion = nn.CrossEntropyLoss()\n",
    "optimizer = optim.SGD(model.parameters(), lr=1e-3, momentum=0.9)\n",
    "\n",
    "best_acc = 0\n",
    "\n",
    "for epoch in range(epochs):\n",
    "    model.train()\n",
    "    running_loss = 0.0  # 累加训练损失\n",
    "    correct = 0  # 累加正确预测数\n",
    "    total = 0  # 累加样本数\n",
    "    total_confidence = 0.0  # 累加置信度\n",
    "\n",
    "    # 训练阶段\n",
    "    progress_bar = tqdm(train_dataloader)\n",
    "    for iter, (images, labels) in enumerate(progress_bar):\n",
    "        images = images.to(device)\n",
    "        labels = labels.to(device)\n",
    "\n",
    "        # 前向传播\n",
    "        outputs = model(images)\n",
    "        loss = criterion(outputs, labels)\n",
    "\n",
    "        # 反向传播和优化\n",
    "        optimizer.zero_grad()\n",
    "        loss.backward()\n",
    "        optimizer.step()\n",
    "\n",
    "        # 累加损失\n",
    "        running_loss += loss.item()\n",
    "\n",
    "        # 计算预测并累加正确的预测数量\n",
    "        probs = F.softmax(outputs, dim=1)\n",
    "        confidence, predicted = torch.max(probs, 1)\n",
    "        total_confidence += confidence.sum().item()  # 累加所有样本的置信度\n",
    "        correct += (predicted == labels).sum().item()\n",
    "        total += labels.size(0)\n",
    "\n",
    "        # 打印当前的迭代损失\n",
    "        progress_bar.set_description('Epoch: {}/{} Iter: {} Loss: {:.4f}'.format(epoch+1, epochs, iter+1, loss.item()))\n",
    "\n",
    "    # 计算并打印训练精度和平均损失\n",
    "    train_loss = running_loss / len(train_dataloader)\n",
    "    train_acc = correct / total\n",
    "    avg_train_confidence = total_confidence / total  # 计算训练阶段的平均置信度\n",
    "    print('Epoch: {}/{} Training Loss: {:.4f} Training Acc: {:.4f} Avg Train Confidence: {:.4f}'.format(epoch+1, epochs, train_loss, train_acc, avg_train_confidence))\n",
    "    \n",
    "    train_accs.append(train_acc)\n",
    "    train_confidences.append(avg_train_confidence)\n",
    "\n",
    "    # 测试阶段\n",
    "    model.eval()\n",
    "    all_predictions = []\n",
    "    all_labels = []\n",
    "    test_loss = 0.0\n",
    "    total_confidence = 0.0  # 重置测试置信度累加\n",
    "\n",
    "    with torch.no_grad():\n",
    "        for iter, (images, labels) in enumerate(test_dataloader):\n",
    "            images = images.to(device)\n",
    "            labels = labels.to(device)\n",
    "\n",
    "            # 前向传播\n",
    "            outputs = model(images)\n",
    "            loss = criterion(outputs, labels)\n",
    "\n",
    "            # 累加测试损失\n",
    "            test_loss += loss.item()\n",
    "\n",
    "            # 收集预测和标签\n",
    "            probs = F.softmax(outputs, dim=1)\n",
    "            confidence, predictions = torch.max(probs, 1)\n",
    "            total_confidence += confidence.sum().item()  # 累加所有样本的置信度\n",
    "            all_predictions.extend(predictions.cpu().numpy())\n",
    "            all_labels.extend(labels.cpu().numpy())\n",
    "\n",
    "    # 计算并打印测试精度和平均损失\n",
    "    acc = accuracy_score(all_labels, all_predictions)\n",
    "    test_loss = test_loss / len(test_dataloader)\n",
    "    avg_test_confidence = total_confidence / len(all_labels)  # 计算测试阶段的平均置信度\n",
    "    print('Epoch: {}/{} Test Loss: {:.4f} Test Acc: {:.4f} Avg Test Confidence: {:.4f}'.format(epoch+1, epochs, test_loss, acc, avg_test_confidence))\n",
    "    \n",
    "    test_accs.append(acc)\n",
    "    test_confidences.append(avg_test_confidence)\n",
    "\n",
    "    # 保存模型\n",
    "    torch.save(model.state_dict(), 'model/last.pt')\n",
    "    if acc > best_acc:\n",
    "        torch.save(model.state_dict(), 'model/best.pt')\n",
    "        best_acc = acc\n"
   ]
  },
  {
   "cell_type": "code",
   "execution_count": 7,
   "metadata": {},
   "outputs": [
    {
     "data": {
      "image/png": "[encoded data removed]",
      "text/plain": [
       "<Figure size 640x480 with 1 Axes>"
      ]
     },
     "metadata": {},
     "output_type": "display_data"
    }
   ],
   "source": [
    "def plot_accuracy(train_accs, test_accs):\n",
    "    epochs = range(1, len(train_accs) + 1)\n",
    "    plt.plot(epochs, train_accs, label='Training Accuracy')\n",
    "    plt.plot(epochs, test_accs, label='Test Accuracy')\n",
    "    plt.title('Training and Test Accuracy per Epoch')\n",
    "    plt.xlabel('Epoch')\n",
    "    plt.ylabel('Accuracy')\n",
    "    plt.legend()\n",
    "    plt.grid(True)\n",
    "    plt.show()\n",
    "plot_accuracy(train_accs, test_accs)"
   ]
  },
  {
   "cell_type": "code",
   "execution_count": 14,
   "metadata": {},
   "outputs": [],
   "source": [
    "# def bool_to_uint8(image):\n",
    "#     return image.astype(np.uint8) * 255\n",
    "\n",
    "# train_transform = Compose([\n",
    "#                 lambda x: bool_to_uint8(x),  # 将bool类型转换为uint8类型\n",
    "#                 ToPILImage(),                # 转换为PIL图像\n",
    "#                 ToTensor(),                  # 转换为Tensor\n",
    "#                 lambda x: (x > 0.5).float()  # 将Tensor转换为0或1\n",
    "#             ])\n",
    "\n",
    "# test_transform = Compose([\n",
    "#                 lambda x: bool_to_uint8(x),  # 将bool类型转换为uint8类型\n",
    "#                 ToPILImage(),                # 转换为PIL图像\n",
    "#                 ToTensor(),                  # 转换为Tensor\n",
    "#                 lambda x: (x > 0.5).float()  # 将Tensor转换为0或1\n",
    "#             ])"
   ]
  }
 ],
 "metadata": {
  "kernelspec": {
   "display_name": "phe3",
   "language": "python",
   "name": "python3"
  },
  "language_info": {
   "codemirror_mode": {
    "name": "ipython",
    "version": 3
   },
   "file_extension": ".py",
   "mimetype": "text/x-python",
   "name": "python",
   "nbconvert_exporter": "python",
   "pygments_lexer": "ipython3",
   "version": "3.9.19"
  }
 },
 "nbformat": 4,
 "nbformat_minor": 2
}
